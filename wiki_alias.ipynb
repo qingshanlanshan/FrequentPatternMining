{
 "cells": [
  {
   "cell_type": "code",
   "execution_count": 1,
   "metadata": {},
   "outputs": [],
   "source": [
    "import wiki_helper\n",
    "import importlib\n",
    "importlib.reload(wiki_helper)\n",
    "from wiki_helper import *"
   ]
  },
  {
   "cell_type": "code",
   "execution_count": 2,
   "metadata": {},
   "outputs": [],
   "source": [
    "alias_map=load_alias()"
   ]
  },
  {
   "cell_type": "code",
   "execution_count": 11,
   "metadata": {},
   "outputs": [],
   "source": [
    "freq2=load_freqset(\"2-freq-5supp.csv\")\n",
    "freq2_itemset=freq2.keys()\n",
    "entity_list=[]\n",
    "for itemset in freq2_itemset:\n",
    "    item1,item2=itemset\n",
    "    if item1[1]=='_' or item2[1]=='_':\n",
    "        continue\n",
    "    if item1 in alias_map:\n",
    "        item1=alias_map[item1]\n",
    "    if item2 in alias_map:\n",
    "        item2=alias_map[item2]\n",
    "    entity_list.append(set([item1,item2]))\n",
    "dump(\"alias.csv\",entity_list)"
   ]
  },
  {
   "cell_type": "code",
   "execution_count": 7,
   "metadata": {},
   "outputs": [],
   "source": [
    "with open(\"output/3-rules-10000supp-0_5conf.csv\",'r') as f1:\n",
    "    with open(\"output/alias.csv\",'w') as f2:\n",
    "        for line in f1:\n",
    "            key,value=line.strip().split('->')\n",
    "            key=key.split(',')\n",
    "            value=value.split(',')\n",
    "            for i in range(len(key)):\n",
    "                item=key[i]\n",
    "                if item[1]=='_' and item[2:] in alias_map:\n",
    "                    f2.write(alias_map[item[2:]])\n",
    "                elif item[0]=='Q':\n",
    "                    f2.write(alias_map[item])\n",
    "                else:\n",
    "                    f2.write(item)\n",
    "                if not i==len(key)-1:\n",
    "                    f2.write(',')\n",
    "            f2.write(\"->\")\n",
    "            for i in range(len(value)):\n",
    "                item=value[i]\n",
    "                if item[1]=='_' and item[2:] in alias_map:\n",
    "                    f2.write(alias_map[item[2:]])\n",
    "                elif item[0]=='Q':\n",
    "                    f2.write(alias_map[item])\n",
    "                else:\n",
    "                    f2.write(item)\n",
    "                if i!=len(value)-1:\n",
    "                    f2.write(',')\n",
    "            f2.write('\\n')\n",
    "            "
   ]
  }
 ],
 "metadata": {
  "kernelspec": {
   "display_name": "base",
   "language": "python",
   "name": "python3"
  },
  "language_info": {
   "codemirror_mode": {
    "name": "ipython",
    "version": 3
   },
   "file_extension": ".py",
   "mimetype": "text/x-python",
   "name": "python",
   "nbconvert_exporter": "python",
   "pygments_lexer": "ipython3",
   "version": "3.9.13"
  },
  "orig_nbformat": 4
 },
 "nbformat": 4,
 "nbformat_minor": 2
}
