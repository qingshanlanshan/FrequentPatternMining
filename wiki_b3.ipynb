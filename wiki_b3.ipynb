{
 "cells": [
  {
   "cell_type": "code",
   "execution_count": 2,
   "metadata": {},
   "outputs": [],
   "source": [
    "import wiki_helper\n",
    "import importlib\n",
    "importlib.reload(wiki_helper)\n",
    "from wiki_helper import *"
   ]
  },
  {
   "cell_type": "code",
   "execution_count": 3,
   "metadata": {},
   "outputs": [],
   "source": [
    "meta_path=[]\n",
    "support=5000\n",
    "with open(\"output/b2-\"+str(support)+\".csv\",'r') as f:\n",
    "    for line in f:\n",
    "        meta_path.append(line.strip().split(\",\"))\n"
   ]
  },
  {
   "cell_type": "code",
   "execution_count": 9,
   "metadata": {},
   "outputs": [],
   "source": [
    "with open(\"output/b3-\"+str(support)+\".csv\",'w') as f:\n",
    "    for item1 in meta_path:\n",
    "        if item1[0]==item1[2]:\n",
    "            continue\n",
    "        for item2 in meta_path:\n",
    "            first_rule=True\n",
    "            if item1==item2:\n",
    "                continue\n",
    "            if item2[0]==item2[2]:\n",
    "                continue\n",
    "            for item3 in meta_path:\n",
    "                # if item3[0]==item3[2]:\n",
    "                #     continue\n",
    "                if item3==item1 or item3==item2:\n",
    "                    continue\n",
    "                \n",
    "                if (item2[0]==item1[2] and item3[0]==item1[0] and item3[2]==item2[2]) or \\\n",
    "                    (item2[0]==item1[0] and item3[2]==item2[2] and item3[0]==item1[2]) or \\\n",
    "                        (item2[2]==item1[2] and item3[2]==item2[0] and item3[0]==item1[0]):\n",
    "                    # a->b, b->c, a->c\n",
    "                    # a->b, a->c, b->c\n",
    "                    # a->c, b->c, a->b\n",
    "                    if first_rule:\n",
    "                        print(item1,file=f,end=\"\")\n",
    "                        f.write(\"\\t+\\t\")\n",
    "                        print(item2,file=f,end=\"\")\n",
    "                        f.write(\"\\t->\\t\")\n",
    "                        first_rule=False\n",
    "                        print(item3,file=f,end=\"\")\n",
    "                    else:\n",
    "                        f.write(',\\t')\n",
    "                        print(item3,file=f,end=\"\")\n",
    "            if not first_rule:\n",
    "                f.write(\"\\n\")\n",
    "                    "
   ]
  }
 ],
 "metadata": {
  "kernelspec": {
   "display_name": "base",
   "language": "python",
   "name": "python3"
  },
  "language_info": {
   "codemirror_mode": {
    "name": "ipython",
    "version": 3
   },
   "file_extension": ".py",
   "mimetype": "text/x-python",
   "name": "python",
   "nbconvert_exporter": "python",
   "pygments_lexer": "ipython3",
   "version": "3.9.13"
  },
  "orig_nbformat": 4
 },
 "nbformat": 4,
 "nbformat_minor": 2
}
