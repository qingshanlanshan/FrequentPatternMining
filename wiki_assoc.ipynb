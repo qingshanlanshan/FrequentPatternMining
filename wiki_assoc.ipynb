{
 "cells": [
  {
   "cell_type": "code",
   "execution_count": 15,
   "metadata": {},
   "outputs": [],
   "source": [
    "import wiki_helper\n",
    "import importlib\n",
    "importlib.reload(wiki_helper)\n",
    "from wiki_helper import *"
   ]
  },
  {
   "cell_type": "code",
   "execution_count": 2,
   "metadata": {},
   "outputs": [],
   "source": [
    "alias_map=load_alias()"
   ]
  },
  {
   "cell_type": "code",
   "execution_count": 11,
   "metadata": {},
   "outputs": [
    {
     "name": "stdout",
     "output_type": "stream",
     "text": [
      "frozenset({'Q5', 'h_P1343'})\n"
     ]
    }
   ],
   "source": [
    "support=5000\n",
    "freq1=load_freqset(\"1-freq-\"+str(support)+\"supp.csv\")\n",
    "freq2=load_freqset(\"2-freq-\"+str(support)+\"supp.csv\")\n",
    "freq3=load_freqset(\"3-freq-\"+str(support)+\"supp.csv\")\n",
    "print(next(iter(freq2.keys())))\n"
   ]
  },
  {
   "cell_type": "code",
   "execution_count": 9,
   "metadata": {},
   "outputs": [],
   "source": [
    "rules=generate_2_rules(freq2,freq1,0.5)\n",
    "dump_rules(rules,\"2-rules-\"+str(support)+\"supp-0_5conf.csv\")"
   ]
  },
  {
   "cell_type": "code",
   "execution_count": 16,
   "metadata": {},
   "outputs": [
    {
     "name": "stderr",
     "output_type": "stream",
     "text": [
      "100%|██████████| 101/101 [00:00<00:00, 49413.82it/s]\n"
     ]
    }
   ],
   "source": [
    "rules=generate_3_rules(freq3,freq2,0.5)\n",
    "dump_rules(rules,\"3-rules-\"+str(support)+\"supp-0_5conf.csv\")"
   ]
  }
 ],
 "metadata": {
  "kernelspec": {
   "display_name": "base",
   "language": "python",
   "name": "python3"
  },
  "language_info": {
   "codemirror_mode": {
    "name": "ipython",
    "version": 3
   },
   "file_extension": ".py",
   "mimetype": "text/x-python",
   "name": "python",
   "nbconvert_exporter": "python",
   "pygments_lexer": "ipython3",
   "version": "3.9.13"
  },
  "orig_nbformat": 4
 },
 "nbformat": 4,
 "nbformat_minor": 2
}
