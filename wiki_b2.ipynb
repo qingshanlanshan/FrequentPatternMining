{
 "cells": [
  {
   "cell_type": "code",
   "execution_count": 16,
   "metadata": {},
   "outputs": [],
   "source": [
    "import wiki_helper\n",
    "import importlib\n",
    "importlib.reload(wiki_helper)\n",
    "from wiki_helper import *"
   ]
  },
  {
   "cell_type": "code",
   "execution_count": 17,
   "metadata": {},
   "outputs": [],
   "source": [
    "alias_map=load_alias()\n"
   ]
  },
  {
   "cell_type": "code",
   "execution_count": 18,
   "metadata": {},
   "outputs": [],
   "source": [
    "support=5000\n",
    "freq1=load_freqset(\"1-freq-\"+str(support)+\"supp.csv\")\n",
    "freq2=load_freqset(\"2-freq-\"+str(support)+\"supp.csv\")"
   ]
  },
  {
   "cell_type": "code",
   "execution_count": 19,
   "metadata": {},
   "outputs": [],
   "source": [
    "def generate_rules(freq2:dict,freq1:dict,min_conf:float):\n",
    "    ret={}\n",
    "    for key,value in tqdm(freq2.items()):\n",
    "        rule_sup=len(value)\n",
    "        item1,item2=list(key)\n",
    "        if item1[1]=='_' and item2[1]=='_':\n",
    "            continue\n",
    "        if item1[0]=='Q' and item2[0]=='Q':\n",
    "            continue\n",
    "        if item2[1]=='_':\n",
    "            item1,item2=item2,item1\n",
    "        # item1 is an action, item2 is an entity\n",
    "        if not item1 in freq1:\n",
    "            item1_key=frozenset([item1])\n",
    "        else:\n",
    "            item1_key=item1\n",
    "        item1_sup=len(freq1[item1_key])\n",
    "        conf1=rule_sup/item1_sup\n",
    "     \n",
    "        if(conf1>=min_conf):\n",
    "            if item1 not in ret:\n",
    "                ret[item1]=set()\n",
    "            if item2.__class__==str:\n",
    "                ret[item1].add(item2)\n",
    "            else:\n",
    "                for i in item2:\n",
    "                    ret[item1].add(i)\n",
    "\n",
    "    return ret"
   ]
  },
  {
   "cell_type": "code",
   "execution_count": 20,
   "metadata": {},
   "outputs": [
    {
     "name": "stderr",
     "output_type": "stream",
     "text": [
      "100%|██████████| 525/525 [00:00<00:00, 29428.40it/s]\n"
     ]
    }
   ],
   "source": [
    "rules=generate_rules(freq2,freq1,0.5)"
   ]
  },
  {
   "cell_type": "code",
   "execution_count": 21,
   "metadata": {},
   "outputs": [],
   "source": [
    "dump_rules(rules,\"2-rules\")"
   ]
  },
  {
   "cell_type": "code",
   "execution_count": 22,
   "metadata": {},
   "outputs": [],
   "source": [
    "with open(\"output/b2-5000.csv\",'w') as f:\n",
    "    meta_path=[]\n",
    "    for key,value in rules.items():\n",
    "        if key[0]=='t':\n",
    "            continue\n",
    "        \n",
    "        tail_key='t'+key[1:]\n",
    "        if not tail_key in rules:\n",
    "            continue\n",
    "        else:\n",
    "            tail_entities=rules[tail_key]\n",
    "        head_entities=value\n",
    "        for head in head_entities:\n",
    "            for tail in tail_entities:\n",
    "                meta_path.append((head,key[2:],tail))\n",
    "                # f.write(head+','+key[2:]+','+tail+'\\n')\n",
    "                if head in alias_map:\n",
    "                    f.write(alias_map[head])\n",
    "                else:\n",
    "                    f.write(head)\n",
    "                f.write(',')\n",
    "                if key[2:] in alias_map:\n",
    "                    f.write(alias_map[key[2:]])\n",
    "                else:\n",
    "                    f.write(key[2:])\n",
    "                f.write(',')\n",
    "                if tail in alias_map:\n",
    "                    f.write(alias_map[tail])\n",
    "                else:\n",
    "                    f.write(tail)\n",
    "                f.write('\\n')\n",
    "                "
   ]
  }
 ],
 "metadata": {
  "kernelspec": {
   "display_name": "base",
   "language": "python",
   "name": "python3"
  },
  "language_info": {
   "codemirror_mode": {
    "name": "ipython",
    "version": 3
   },
   "file_extension": ".py",
   "mimetype": "text/x-python",
   "name": "python",
   "nbconvert_exporter": "python",
   "pygments_lexer": "ipython3",
   "version": "3.9.13"
  },
  "orig_nbformat": 4
 },
 "nbformat": 4,
 "nbformat_minor": 2
}
